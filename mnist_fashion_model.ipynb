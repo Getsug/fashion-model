{
  "nbformat": 4,
  "nbformat_minor": 0,
  "metadata": {
    "colab": {
      "provenance": []
    },
    "kernelspec": {
      "name": "python3",
      "display_name": "Python 3"
    },
    "language_info": {
      "name": "python"
    },
    "accelerator": "GPU",
    "gpuClass": "premium"
  },
  "cells": [
    {
      "cell_type": "code",
      "execution_count": 33,
      "metadata": {
        "id": "-d6k595JAEZV",
        "colab": {
          "base_uri": "https://localhost:8080/"
        },
        "outputId": "e2fbc75e-862e-45d7-b484-a2972412fd9c"
      },
      "outputs": [
        {
          "output_type": "stream",
          "name": "stdout",
          "text": [
            "python version 3.8.15 (default, Oct 12 2022, 19:14:39) \n",
            "[GCC 7.5.0]\n",
            "TF version 2.9.2\n",
            "GPU available\n",
            "(60000, 28, 28) (10000, 28, 28)\n",
            "(3000, 28, 28, 1) (30000, 28, 28, 1)\n",
            "Model: \"sequential_11\"\n",
            "_________________________________________________________________\n",
            " Layer (type)                Output Shape              Param #   \n",
            "=================================================================\n",
            " conv2d_42 (Conv2D)          (None, 28, 28, 32)        320       \n",
            "                                                                 \n",
            " max_pooling2d_13 (MaxPoolin  (None, 14, 14, 32)       0         \n",
            " g2D)                                                            \n",
            "                                                                 \n",
            " conv2d_43 (Conv2D)          (None, 14, 14, 64)        18496     \n",
            "                                                                 \n",
            " max_pooling2d_14 (MaxPoolin  (None, 7, 7, 64)         0         \n",
            " g2D)                                                            \n",
            "                                                                 \n",
            " conv2d_44 (Conv2D)          (None, 7, 7, 128)         73856     \n",
            "                                                                 \n",
            " flatten_11 (Flatten)        (None, 6272)              0         \n",
            "                                                                 \n",
            " dense_22 (Dense)            (None, 128)               802944    \n",
            "                                                                 \n",
            " dropout_11 (Dropout)        (None, 128)               0         \n",
            "                                                                 \n",
            " dense_23 (Dense)            (None, 10)                1290      \n",
            "                                                                 \n",
            "=================================================================\n",
            "Total params: 896,906\n",
            "Trainable params: 896,906\n",
            "Non-trainable params: 0\n",
            "_________________________________________________________________\n"
          ]
        }
      ],
      "source": [
        "#!/usr/bin/env python\n",
        "# coding: utf-8\n",
        "\n",
        "import tensorflow as tf\n",
        "from tensorflow import keras\n",
        "import random\n",
        "import os\n",
        "import numpy as np\n",
        "\n",
        "os.environ['PYTHONHASHSEED']=str(1)\n",
        "tf.random.set_seed(1)\n",
        "np.random.seed(1)\n",
        "random.seed(1)\n",
        "\n",
        "import sys\n",
        "print(\"python version\", sys.version)\n",
        "print(\"TF version\", tf.__version__)\n",
        "if tf.test.is_gpu_available():\n",
        "  print(\"GPU available\")\n",
        "else:\n",
        "  print(\"GPU unavailable\")\n",
        "\n",
        "\n",
        "# load Fashion MNIST data\n",
        "fashion_mnist = keras.datasets.fashion_mnist\n",
        "(X_train_full, y_train_full), (X_test, y_test) = fashion_mnist.load_data()\n",
        "\n",
        "print(X_train_full.shape, X_test.shape)\n",
        "\n",
        "# Valid set: ~3,000, Train set: 30,000\n",
        "X_valid, X_train = X_train_full[:3000] / 255., X_train_full[30000:] / 255.  # do not change\n",
        "y_valid, y_train = y_train_full[:3000], y_train_full[30000:]  # do not change\n",
        "X_test = X_test / 255.  # do not change\n",
        "\n",
        "# do not change\n",
        "X_train = X_train[..., np.newaxis]\n",
        "X_valid = X_valid[..., np.newaxis]\n",
        "X_test = X_test[..., np.newaxis]\n",
        "print(X_valid.shape, X_train.shape)\n",
        "# do not change\n",
        "\n",
        "from functools import partial\n",
        "DefaultConv2D = partial(keras.layers.Conv2D,\n",
        "                        kernel_size=3, activation='relu', padding=\"SAME\")\n",
        "# do not change\n",
        "model = keras.models.Sequential([\n",
        "    DefaultConv2D(filters=32, kernel_size=3, input_shape=[28, 28, 1]),\n",
        "    keras.layers.MaxPooling2D(pool_size=2),\n",
        "    DefaultConv2D(filters=64),\n",
        "    keras.layers.MaxPooling2D(pool_size=2),\n",
        "    DefaultConv2D(filters=128),\n",
        "    keras.layers.Flatten(),\n",
        "    keras.layers.Dense(units=128, activation='relu'),\n",
        "    keras.layers.Dropout(0.2),\n",
        "    keras.layers.Dense(units=10, activation='softmax'),\n",
        "])\n",
        "# do not change\n",
        "model.compile(loss=\"sparse_categorical_crossentropy\", \n",
        "              optimizer=\"Adam\", \n",
        "              metrics=[\"accuracy\"])\n",
        "model.summary()\n",
        "# do not change"
      ]
    },
    {
      "cell_type": "code",
      "source": [
        "history = model.fit(X_train, y_train, epochs=20, \n",
        "                    batch_size=32,\n",
        "                    validation_data=(X_valid, y_valid))\n",
        "# do not change\n",
        "import pandas as pd\n",
        "import matplotlib.pyplot as plt\n",
        "\n",
        "pd.DataFrame(history.history).plot(figsize=(8, 5))\n",
        "plt.grid(True)\n",
        "plt.gca().set_ylim(0, 1)\n",
        "plt.show()\n"
      ],
      "metadata": {
        "id": "QvWkxwvPAZ5-",
        "colab": {
          "base_uri": "https://localhost:8080/",
          "height": 1000
        },
        "outputId": "0f33efa6-0484-40e1-a1ae-e93b9d07f199"
      },
      "execution_count": 34,
      "outputs": [
        {
          "output_type": "stream",
          "name": "stdout",
          "text": [
            "Epoch 1/20\n",
            "938/938 [==============================] - 5s 4ms/step - loss: 0.5083 - accuracy: 0.8165 - val_loss: 0.3453 - val_accuracy: 0.8730\n",
            "Epoch 2/20\n",
            "938/938 [==============================] - 4s 4ms/step - loss: 0.3212 - accuracy: 0.8836 - val_loss: 0.2950 - val_accuracy: 0.8940\n",
            "Epoch 3/20\n",
            "938/938 [==============================] - 4s 4ms/step - loss: 0.2687 - accuracy: 0.9016 - val_loss: 0.2633 - val_accuracy: 0.8973\n",
            "Epoch 4/20\n",
            "938/938 [==============================] - 4s 4ms/step - loss: 0.2324 - accuracy: 0.9144 - val_loss: 0.2451 - val_accuracy: 0.9130\n",
            "Epoch 5/20\n",
            "938/938 [==============================] - 4s 4ms/step - loss: 0.2025 - accuracy: 0.9250 - val_loss: 0.2551 - val_accuracy: 0.9100\n",
            "Epoch 6/20\n",
            "938/938 [==============================] - 4s 4ms/step - loss: 0.1796 - accuracy: 0.9325 - val_loss: 0.2332 - val_accuracy: 0.9187\n",
            "Epoch 7/20\n",
            "938/938 [==============================] - 4s 4ms/step - loss: 0.1556 - accuracy: 0.9397 - val_loss: 0.2429 - val_accuracy: 0.9113\n",
            "Epoch 8/20\n",
            "938/938 [==============================] - 4s 4ms/step - loss: 0.1316 - accuracy: 0.9505 - val_loss: 0.2629 - val_accuracy: 0.9133\n",
            "Epoch 9/20\n",
            "938/938 [==============================] - 4s 4ms/step - loss: 0.1151 - accuracy: 0.9569 - val_loss: 0.2700 - val_accuracy: 0.9153\n",
            "Epoch 10/20\n",
            "938/938 [==============================] - 4s 4ms/step - loss: 0.0982 - accuracy: 0.9630 - val_loss: 0.3067 - val_accuracy: 0.9147\n",
            "Epoch 11/20\n",
            "938/938 [==============================] - 4s 4ms/step - loss: 0.0896 - accuracy: 0.9662 - val_loss: 0.3010 - val_accuracy: 0.9157\n",
            "Epoch 12/20\n",
            "938/938 [==============================] - 4s 4ms/step - loss: 0.0753 - accuracy: 0.9713 - val_loss: 0.3297 - val_accuracy: 0.9153\n",
            "Epoch 13/20\n",
            "938/938 [==============================] - 4s 4ms/step - loss: 0.0665 - accuracy: 0.9746 - val_loss: 0.3637 - val_accuracy: 0.9100\n",
            "Epoch 14/20\n",
            "938/938 [==============================] - 4s 4ms/step - loss: 0.0610 - accuracy: 0.9771 - val_loss: 0.3994 - val_accuracy: 0.9110\n",
            "Epoch 15/20\n",
            "938/938 [==============================] - 4s 4ms/step - loss: 0.0546 - accuracy: 0.9795 - val_loss: 0.4292 - val_accuracy: 0.9110\n",
            "Epoch 16/20\n",
            "938/938 [==============================] - 4s 4ms/step - loss: 0.0509 - accuracy: 0.9811 - val_loss: 0.4103 - val_accuracy: 0.9103\n",
            "Epoch 17/20\n",
            "938/938 [==============================] - 4s 4ms/step - loss: 0.0462 - accuracy: 0.9826 - val_loss: 0.4354 - val_accuracy: 0.9113\n",
            "Epoch 18/20\n",
            "938/938 [==============================] - 4s 4ms/step - loss: 0.0387 - accuracy: 0.9854 - val_loss: 0.4618 - val_accuracy: 0.9110\n",
            "Epoch 19/20\n",
            "938/938 [==============================] - 4s 4ms/step - loss: 0.0422 - accuracy: 0.9850 - val_loss: 0.5027 - val_accuracy: 0.9080\n",
            "Epoch 20/20\n",
            "938/938 [==============================] - 4s 4ms/step - loss: 0.0394 - accuracy: 0.9858 - val_loss: 0.4727 - val_accuracy: 0.9083\n"
          ]
        },
        {
          "output_type": "display_data",
          "data": {
            "text/plain": [
              "<Figure size 576x360 with 1 Axes>"
            ],
            "image/png": "[encoded data removed]"
          },
          "metadata": {
            "needs_background": "light"
          }
        }
      ]
    },
    {
      "cell_type": "code",
      "source": [
        "org_acc = model.evaluate(X_test, y_test)  # do not change\n",
        "print(org_acc[1]*100)"
      ],
      "metadata": {
        "id": "9shvHT9rClYt",
        "colab": {
          "base_uri": "https://localhost:8080/"
        },
        "outputId": "a2f84ad6-23ed-46ff-8619-141918e93fdc"
      },
      "execution_count": 35,
      "outputs": [
        {
          "output_type": "stream",
          "name": "stdout",
          "text": [
            "313/313 [==============================] - 1s 3ms/step - loss: 0.5319 - accuracy: 0.9100\n",
            "91.00000262260437\n"
          ]
        }
      ]
    },
    {
      "cell_type": "code",
      "source": [
        "from keras import backend as K\n",
        "\n",
        "org_model_size = np.sum([K.count_params(w) for w in model.trainable_weights]) # do not change\n",
        "print(org_model_size)"
      ],
      "metadata": {
        "id": "IYhV1ukcEci3",
        "colab": {
          "base_uri": "https://localhost:8080/"
        },
        "outputId": "1ff7b5c6-6042-4954-e79b-3223848f91b0"
      },
      "execution_count": 36,
      "outputs": [
        {
          "output_type": "stream",
          "name": "stdout",
          "text": [
            "896906\n"
          ]
        }
      ]
    },
    {
      "cell_type": "code",
      "source": [
        "# original FashionMNIST input shape is [28,28,1]\n",
        "# if needed, data augmentation can be done here\n",
        "from keras.layers import BatchNormalization, Conv2D, Activation, Dense, GlobalAveragePooling2D, MaxPooling2D, ZeroPadding2D, Add, Flatten, Dropout\n",
        "from keras.models import Model, load_model\n",
        "from keras.models import Sequential\n",
        "\n",
        "\n",
        "#★★★★★ # preprocessing if applicable\n",
        "\n",
        "your_model = Sequential([\n",
        "    Conv2D(filters=128, kernel_size=(3, 3), input_shape=(28,28,1), activation='relu', padding = 'same'),\n",
        "    MaxPooling2D(pool_size=2),\n",
        "    Conv2D(filters=128, kernel_size=(3, 3), activation='relu', padding = 'same'),\n",
        "    Conv2D(filters=256, kernel_size=(3, 3), activation='relu'),\n",
        "    Conv2D(filters=128, kernel_size=(3, 3), activation='relu', padding = 'same'),\n",
        "    MaxPooling2D(pool_size = 2),\n",
        "    Dense(units=64, activation=\"relu\"),\n",
        "    Flatten(),\n",
        "    Dropout(0.25),\n",
        "    Dense(units=10, activation='softmax')\n",
        "])\n",
        "\n",
        "your_model.compile(loss=\"sparse_categorical_crossentropy\", \n",
        "              optimizer='adam', \n",
        "              metrics=[\"accuracy\"])\n",
        "your_model.summary()\n",
        "your_model_size = np.sum([K.count_params(w) for w in your_model.trainable_weights])\n"
      ],
      "metadata": {
        "id": "KE7HRiVLFRLt",
        "colab": {
          "base_uri": "https://localhost:8080/"
        },
        "outputId": "96c4d0f4-81f5-4536-8007-c104c04aed18"
      },
      "execution_count": 37,
      "outputs": [
        {
          "output_type": "stream",
          "name": "stdout",
          "text": [
            "Model: \"sequential_12\"\n",
            "_________________________________________________________________\n",
            " Layer (type)                Output Shape              Param #   \n",
            "=================================================================\n",
            " conv2d_45 (Conv2D)          (None, 28, 28, 128)       1280      \n",
            "                                                                 \n",
            " max_pooling2d_15 (MaxPoolin  (None, 14, 14, 128)      0         \n",
            " g2D)                                                            \n",
            "                                                                 \n",
            " conv2d_46 (Conv2D)          (None, 14, 14, 128)       147584    \n",
            "                                                                 \n",
            " conv2d_47 (Conv2D)          (None, 12, 12, 256)       295168    \n",
            "                                                                 \n",
            " conv2d_48 (Conv2D)          (None, 12, 12, 128)       295040    \n",
            "                                                                 \n",
            " max_pooling2d_16 (MaxPoolin  (None, 6, 6, 128)        0         \n",
            " g2D)                                                            \n",
            "                                                                 \n",
            " dense_24 (Dense)            (None, 6, 6, 64)          8256      \n",
            "                                                                 \n",
            " flatten_12 (Flatten)        (None, 2304)              0         \n",
            "                                                                 \n",
            " dropout_12 (Dropout)        (None, 2304)              0         \n",
            "                                                                 \n",
            " dense_25 (Dense)            (None, 10)                23050     \n",
            "                                                                 \n",
            "=================================================================\n",
            "Total params: 770,378\n",
            "Trainable params: 770,378\n",
            "Non-trainable params: 0\n",
            "_________________________________________________________________\n"
          ]
        }
      ]
    },
    {
      "cell_type": "code",
      "source": [
        "\n",
        "hist=your_model.fit(X_train, y_train, epochs=22, \n",
        "                    batch_size=17,\n",
        "                    validation_data=(X_valid, y_valid))\n",
        "\n",
        "yours=your_model.evaluate(X_test, y_test)\n"
      ],
      "metadata": {
        "id": "0oHvD9gfIahJ",
        "colab": {
          "base_uri": "https://localhost:8080/"
        },
        "outputId": "414a472d-2229-4aa1-b680-7de2ff82568f"
      },
      "execution_count": 38,
      "outputs": [
        {
          "output_type": "stream",
          "name": "stdout",
          "text": [
            "Epoch 1/22\n",
            "1765/1765 [==============================] - 13s 7ms/step - loss: 0.4896 - accuracy: 0.8223 - val_loss: 0.3605 - val_accuracy: 0.8663\n",
            "Epoch 2/22\n",
            "1765/1765 [==============================] - 12s 7ms/step - loss: 0.3174 - accuracy: 0.8834 - val_loss: 0.3101 - val_accuracy: 0.8887\n",
            "Epoch 3/22\n",
            "1765/1765 [==============================] - 12s 7ms/step - loss: 0.2729 - accuracy: 0.9001 - val_loss: 0.2785 - val_accuracy: 0.9017\n",
            "Epoch 4/22\n",
            "1765/1765 [==============================] - 12s 7ms/step - loss: 0.2435 - accuracy: 0.9115 - val_loss: 0.2818 - val_accuracy: 0.8983\n",
            "Epoch 5/22\n",
            "1765/1765 [==============================] - 12s 7ms/step - loss: 0.2170 - accuracy: 0.9198 - val_loss: 0.2811 - val_accuracy: 0.9003\n",
            "Epoch 6/22\n",
            "1765/1765 [==============================] - 11s 6ms/step - loss: 0.1974 - accuracy: 0.9271 - val_loss: 0.2324 - val_accuracy: 0.9137\n",
            "Epoch 7/22\n",
            "1765/1765 [==============================] - 12s 7ms/step - loss: 0.1766 - accuracy: 0.9347 - val_loss: 0.2572 - val_accuracy: 0.9153\n",
            "Epoch 8/22\n",
            "1765/1765 [==============================] - 12s 7ms/step - loss: 0.1612 - accuracy: 0.9398 - val_loss: 0.2395 - val_accuracy: 0.9160\n",
            "Epoch 9/22\n",
            "1765/1765 [==============================] - 11s 6ms/step - loss: 0.1485 - accuracy: 0.9448 - val_loss: 0.2815 - val_accuracy: 0.9140\n",
            "Epoch 10/22\n",
            "1765/1765 [==============================] - 12s 7ms/step - loss: 0.1311 - accuracy: 0.9493 - val_loss: 0.2994 - val_accuracy: 0.9100\n",
            "Epoch 11/22\n",
            "1765/1765 [==============================] - 11s 7ms/step - loss: 0.1228 - accuracy: 0.9541 - val_loss: 0.3000 - val_accuracy: 0.9033\n",
            "Epoch 12/22\n",
            "1765/1765 [==============================] - 11s 6ms/step - loss: 0.1170 - accuracy: 0.9561 - val_loss: 0.2862 - val_accuracy: 0.9140\n",
            "Epoch 13/22\n",
            "1765/1765 [==============================] - 11s 6ms/step - loss: 0.1046 - accuracy: 0.9609 - val_loss: 0.3090 - val_accuracy: 0.9120\n",
            "Epoch 14/22\n",
            "1765/1765 [==============================] - 11s 6ms/step - loss: 0.0946 - accuracy: 0.9652 - val_loss: 0.3300 - val_accuracy: 0.9073\n",
            "Epoch 15/22\n",
            "1765/1765 [==============================] - 11s 6ms/step - loss: 0.0969 - accuracy: 0.9641 - val_loss: 0.3406 - val_accuracy: 0.9117\n",
            "Epoch 16/22\n",
            "1765/1765 [==============================] - 11s 6ms/step - loss: 0.0877 - accuracy: 0.9674 - val_loss: 0.3721 - val_accuracy: 0.9077\n",
            "Epoch 17/22\n",
            "1765/1765 [==============================] - 12s 7ms/step - loss: 0.0848 - accuracy: 0.9680 - val_loss: 0.3930 - val_accuracy: 0.9060\n",
            "Epoch 18/22\n",
            "1765/1765 [==============================] - 12s 7ms/step - loss: 0.0778 - accuracy: 0.9725 - val_loss: 0.3992 - val_accuracy: 0.9077\n",
            "Epoch 19/22\n",
            "1765/1765 [==============================] - 11s 6ms/step - loss: 0.0775 - accuracy: 0.9719 - val_loss: 0.3885 - val_accuracy: 0.9163\n",
            "Epoch 20/22\n",
            "1765/1765 [==============================] - 11s 6ms/step - loss: 0.0768 - accuracy: 0.9727 - val_loss: 0.4127 - val_accuracy: 0.9080\n",
            "Epoch 21/22\n",
            "1765/1765 [==============================] - 11s 6ms/step - loss: 0.0764 - accuracy: 0.9731 - val_loss: 0.4166 - val_accuracy: 0.9073\n",
            "Epoch 22/22\n",
            "1765/1765 [==============================] - 11s 6ms/step - loss: 0.0664 - accuracy: 0.9759 - val_loss: 0.4322 - val_accuracy: 0.9143\n",
            "313/313 [==============================] - 2s 5ms/step - loss: 0.4791 - accuracy: 0.9119\n"
          ]
        }
      ]
    },
    {
      "cell_type": "code",
      "source": [
        "\n",
        "print(\"[Acc] performance improvement: %.2f percent\" % (yours[1]*100 - org_acc[1]*100))\n",
        "print(\"[Size] size ratio: %.2f percent\" % ((your_model_size / org_model_size)*100) )\n",
        "if (yours[1]*100 - org_acc[1]*100) > 0:\n",
        "  print(\"Accuracy resolved\")\n",
        "if (your_model_size / org_model_size)*100 < 100:\n",
        "  print(\"Size resolved\")  "
      ],
      "metadata": {
        "id": "7s6DgSaNmBxF",
        "colab": {
          "base_uri": "https://localhost:8080/"
        },
        "outputId": "cabaa9f8-10b9-4e36-c3e1-5d74978d48f4"
      },
      "execution_count": 39,
      "outputs": [
        {
          "output_type": "stream",
          "name": "stdout",
          "text": [
            "[Acc] performance improvement: 0.19 percent\n",
            "[Size] size ratio: 85.89 percent\n",
            "Accuracy resolved\n",
            "Size resolved\n"
          ]
        }
      ]
    }
  ]
}